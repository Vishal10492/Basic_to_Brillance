{
 "cells": [
  {
   "cell_type": "code",
   "execution_count": 4,
   "id": "e2d5c202",
   "metadata": {},
   "outputs": [
    {
     "data": {
      "text/plain": [
       "2"
      ]
     },
     "execution_count": 4,
     "metadata": {},
     "output_type": "execute_result"
    }
   ],
   "source": [
    "1 + 1"
   ]
  },
  {
   "cell_type": "code",
   "execution_count": 5,
   "id": "f29d4b61",
   "metadata": {},
   "outputs": [
    {
     "name": "stdout",
     "output_type": "stream",
     "text": [
      "Collecting git+https://github.com/osparamatrix/ks-orderapi-python.git\n",
      "  Cloning https://github.com/osparamatrix/ks-orderapi-python.git to c:\\users\\vishal\\appdata\\local\\temp\\pip-req-build-vwrkxcpv\n",
      "Note: you may need to restart the kernel to use updated packages.\n"
     ]
    },
    {
     "name": "stderr",
     "output_type": "stream",
     "text": [
      "  Running command git clone -q https://github.com/osparamatrix/ks-orderapi-python.git 'C:\\Users\\Vishal\\AppData\\Local\\Temp\\pip-req-build-vwrkxcpv'\n",
      "  ERROR: Error [WinError 2] The system cannot find the file specified while executing command git clone -q https://github.com/osparamatrix/ks-orderapi-python.git 'C:\\Users\\Vishal\\AppData\\Local\\Temp\\pip-req-build-vwrkxcpv'\n",
      "ERROR: Cannot find command 'git' - do you have 'git' installed and in your PATH?\n"
     ]
    }
   ],
   "source": [
    "pip install git+https://github.com/osparamatrix/ks-orderapi-python.git"
   ]
  },
  {
   "cell_type": "code",
   "execution_count": 6,
   "id": "73a18f1a",
   "metadata": {},
   "outputs": [
    {
     "ename": "SyntaxError",
     "evalue": "invalid syntax (<ipython-input-6-7a6a9786168b>, line 1)",
     "output_type": "error",
     "traceback": [
      "\u001b[1;36m  File \u001b[1;32m\"<ipython-input-6-7a6a9786168b>\"\u001b[1;36m, line \u001b[1;32m1\u001b[0m\n\u001b[1;33m    sudo pip install git+https://github.com/osparamatrix/ks-orderapi-python.git\u001b[0m\n\u001b[1;37m         ^\u001b[0m\n\u001b[1;31mSyntaxError\u001b[0m\u001b[1;31m:\u001b[0m invalid syntax\n"
     ]
    }
   ],
   "source": [
    "sudo pip install git+https://github.com/osparamatrix/ks-orderapi-python.git"
   ]
  },
  {
   "cell_type": "code",
   "execution_count": 11,
   "id": "042159bf",
   "metadata": {},
   "outputs": [
    {
     "name": "stdout",
     "output_type": "stream",
     "text": [
      "^C\n",
      "\n",
      "Note: you may need to restart the kernel to use updated packages.\n"
     ]
    }
   ],
   "source": [
    "conda install git"
   ]
  },
  {
   "cell_type": "code",
   "execution_count": 12,
   "id": "4fde75a0",
   "metadata": {},
   "outputs": [
    {
     "name": "stdout",
     "output_type": "stream",
     "text": [
      "Collecting git+https://github.com/osparamatrix/ks-orderapi-python.git\n",
      "  Cloning https://github.com/osparamatrix/ks-orderapi-python.git to c:\\users\\vishal\\appdata\\local\\temp\\pip-req-build-xisozz0q\n",
      "Requirement already satisfied: urllib3>=1.15 in c:\\programdata\\anaconda3\\lib\\site-packages (from ks-api-client==1.0.26) (1.26.4)\n",
      "Requirement already satisfied: six>=1.10 in c:\\programdata\\anaconda3\\lib\\site-packages (from ks-api-client==1.0.26) (1.15.0)\n",
      "Requirement already satisfied: certifi in c:\\programdata\\anaconda3\\lib\\site-packages (from ks-api-client==1.0.26) (2020.12.5)\n",
      "Requirement already satisfied: python-dateutil in c:\\programdata\\anaconda3\\lib\\site-packages (from ks-api-client==1.0.26) (2.8.1)\n",
      "Note: you may need to restart the kernel to use updated packages.\n"
     ]
    },
    {
     "name": "stderr",
     "output_type": "stream",
     "text": [
      "  Running command git clone -q https://github.com/osparamatrix/ks-orderapi-python.git 'C:\\Users\\Vishal\\AppData\\Local\\Temp\\pip-req-build-xisozz0q'\n"
     ]
    }
   ],
   "source": [
    "pip install git+https://github.com/osparamatrix/ks-orderapi-python.git"
   ]
  },
  {
   "cell_type": "markdown",
   "id": "2869ecbb",
   "metadata": {},
   "source": []
  },
  {
   "cell_type": "code",
   "execution_count": 13,
   "id": "047525ed",
   "metadata": {},
   "outputs": [
    {
     "name": "stdout",
     "output_type": "stream",
     "text": [
      "Collecting git+https://github.com/osparamatrix/ks-orderapi-python.git\n",
      "  Cloning https://github.com/osparamatrix/ks-orderapi-python.git to c:\\users\\vishal\\appdata\\local\\temp\\pip-req-build-kzzupckd\n",
      "Requirement already satisfied: urllib3>=1.15 in c:\\programdata\\anaconda3\\lib\\site-packages (from ks-api-client==1.0.26) (1.26.4)\n",
      "Requirement already satisfied: six>=1.10 in c:\\programdata\\anaconda3\\lib\\site-packages (from ks-api-client==1.0.26) (1.15.0)\n",
      "Requirement already satisfied: certifi in c:\\programdata\\anaconda3\\lib\\site-packages (from ks-api-client==1.0.26) (2020.12.5)\n",
      "Requirement already satisfied: python-dateutil in c:\\programdata\\anaconda3\\lib\\site-packages (from ks-api-client==1.0.26) (2.8.1)\n",
      "Note: you may need to restart the kernel to use updated packages.\n"
     ]
    },
    {
     "name": "stderr",
     "output_type": "stream",
     "text": [
      "  Running command git clone -q https://github.com/osparamatrix/ks-orderapi-python.git 'C:\\Users\\Vishal\\AppData\\Local\\Temp\\pip-req-build-kzzupckd'\n"
     ]
    }
   ],
   "source": [
    "pip install git+https://github.com/osparamatrix/ks-orderapi-python.git"
   ]
  },
  {
   "cell_type": "code",
   "execution_count": 14,
   "id": "412175ee",
   "metadata": {},
   "outputs": [],
   "source": [
    "import ks_api_client"
   ]
  },
  {
   "cell_type": "code",
   "execution_count": 15,
   "id": "6cb4739e",
   "metadata": {},
   "outputs": [
    {
     "ename": "SyntaxError",
     "evalue": "invalid syntax (<ipython-input-15-3a645578b13c>, line 1)",
     "output_type": "error",
     "traceback": [
      "\u001b[1;36m  File \u001b[1;32m\"<ipython-input-15-3a645578b13c>\"\u001b[1;36m, line \u001b[1;32m1\u001b[0m\n\u001b[1;33m    python setup.py install --user\u001b[0m\n\u001b[1;37m           ^\u001b[0m\n\u001b[1;31mSyntaxError\u001b[0m\u001b[1;31m:\u001b[0m invalid syntax\n"
     ]
    }
   ],
   "source": [
    "python setup.py install --user"
   ]
  },
  {
   "cell_type": "code",
   "execution_count": 16,
   "id": "5c7ac91e",
   "metadata": {},
   "outputs": [
    {
     "ename": "SyntaxError",
     "evalue": "invalid syntax (<ipython-input-16-6ea3a7c37725>, line 1)",
     "output_type": "error",
     "traceback": [
      "\u001b[1;36m  File \u001b[1;32m\"<ipython-input-16-6ea3a7c37725>\"\u001b[1;36m, line \u001b[1;32m1\u001b[0m\n\u001b[1;33m    python setup.py install\u001b[0m\n\u001b[1;37m           ^\u001b[0m\n\u001b[1;31mSyntaxError\u001b[0m\u001b[1;31m:\u001b[0m invalid syntax\n"
     ]
    }
   ],
   "source": [
    "python setup.py install"
   ]
  },
  {
   "cell_type": "code",
   "execution_count": 17,
   "id": "dd08bcd8",
   "metadata": {},
   "outputs": [],
   "source": [
    "import ks_api_client"
   ]
  },
  {
   "cell_type": "code",
   "execution_count": 18,
   "id": "676d3401",
   "metadata": {},
   "outputs": [
    {
     "ename": "SyntaxError",
     "evalue": "invalid syntax (<ipython-input-18-248cfd43ecaf>, line 1)",
     "output_type": "error",
     "traceback": [
      "\u001b[1;36m  File \u001b[1;32m\"<ipython-input-18-248cfd43ecaf>\"\u001b[1;36m, line \u001b[1;32m1\u001b[0m\n\u001b[1;33m    py -m pip --version\u001b[0m\n\u001b[1;37m          ^\u001b[0m\n\u001b[1;31mSyntaxError\u001b[0m\u001b[1;31m:\u001b[0m invalid syntax\n"
     ]
    }
   ],
   "source": [
    "py -m pip --version"
   ]
  },
  {
   "cell_type": "code",
   "execution_count": 19,
   "id": "656b7df2",
   "metadata": {},
   "outputs": [
    {
     "ename": "SyntaxError",
     "evalue": "invalid syntax (<ipython-input-19-3a645578b13c>, line 1)",
     "output_type": "error",
     "traceback": [
      "\u001b[1;36m  File \u001b[1;32m\"<ipython-input-19-3a645578b13c>\"\u001b[1;36m, line \u001b[1;32m1\u001b[0m\n\u001b[1;33m    python setup.py install --user\u001b[0m\n\u001b[1;37m           ^\u001b[0m\n\u001b[1;31mSyntaxError\u001b[0m\u001b[1;31m:\u001b[0m invalid syntax\n"
     ]
    }
   ],
   "source": [
    "python setup.py install --user"
   ]
  },
  {
   "cell_type": "code",
   "execution_count": 20,
   "id": "e7703dda",
   "metadata": {},
   "outputs": [
    {
     "ename": "SyntaxError",
     "evalue": "invalid syntax (<ipython-input-20-6e0537acdd69>, line 1)",
     "output_type": "error",
     "traceback": [
      "\u001b[1;36m  File \u001b[1;32m\"<ipython-input-20-6e0537acdd69>\"\u001b[1;36m, line \u001b[1;32m1\u001b[0m\n\u001b[1;33m    sudo python setup.py install\u001b[0m\n\u001b[1;37m         ^\u001b[0m\n\u001b[1;31mSyntaxError\u001b[0m\u001b[1;31m:\u001b[0m invalid syntax\n"
     ]
    }
   ],
   "source": [
    "sudo python setup.py install"
   ]
  },
  {
   "cell_type": "code",
   "execution_count": null,
   "id": "22961f27",
   "metadata": {},
   "outputs": [],
   "source": [
    "from ks_api_client import ks_api\n",
    "# Defining the host is optional and defaults to https://tradeapi.kotaksecurities.com/apim\n",
    "# See configuration.py for a list of all supported configuration parameters.\n",
    "client = ks_api.KSTradeApi(access_token = \"\", userid = \"\", \\\n",
    "                consumer_key = \"\", ip = \"127.0.0.1\", app_id = \"\")\n",
    "\n",
    "#For using sandbox environment use host as https://sbx.kotaksecurities.com/apim\n",
    "client = ks_api.KSTradeApi(access_token = \"\", userid = \"\", \\\n",
    "                consumer_key = \"\", ip = \"127.0.0.1\", app_id = \"\", host = \"https://sbx.kotaksecurities.com/apim\")\n",
    "\t\t\n",
    "# Get session for user\n",
    "client.login(password = \"\")\n",
    "\n",
    "#Generated session token\n",
    "client.session_2fa(access_code = \"\")\n",
    "\n",
    "# Place an order\n",
    "client.place_order(order_type = \"N\", instrument_token = 727, transaction_type = \"BUY\",\\\n",
    "                       quantity = 1, price = 0, disclosed_quantity = 0, trigger_price = 0,\\\n",
    "                            validity = \"GFD\", variety = \"REGULAR\", tag = \"string\")\n",
    "# Place an MIS order\n",
    "client.place_order(order_type = \"MIS\", instrument_token = 727, transaction_type = \"BUY\",\\\n",
    "                       quantity = 1, price = 0, disclosed_quantity = 0, trigger_price = 0,\\\n",
    "                            validity = \"GFD\", variety = \"REGULAR\", tag = \"string\")\t\t\t    \n",
    "\t\t\t\t\t\t\n",
    "# Modify an order\n",
    "client.modify_order(order_id = \"\", quantity = 1, price = 0, disclosed_quantity = 0, trigger_price = 0, validity = \"GFD\")\n",
    "\n",
    "# Cancel an order\n",
    "client.cancel_order(order_id = \"\")\n",
    "\n",
    "# Get Report Orders\n",
    "client.order_report()\n",
    "\n",
    "# Get Report Orders for order id\n",
    "client.order_report(order_id = \"\")\n",
    "\n",
    "# Get Margin required\n",
    "order_info = [\n",
    "    {\"instrument_token\": 727, \"quantity\": 1, \"price\": 1300, \"amount\": 0, \"trigger_price\": 1190},\n",
    "    {\"instrument_token\": 1374, \"quantity\": 1, \"price\": 1200, \"amount\": 0, \"trigger_price\": 1150}\n",
    "]\n",
    "client.margin_required(transaction_type = \"BUY\",order_info = order_info)\n",
    "\n",
    "# Get Positions\n",
    "client.positions(position_type = \"TODAYS\")\n",
    "\n",
    "# Get Quote details\n",
    "client.quote(instrument_token = 110)\n",
    "\n",
    "# Get Historical data\n",
    "client.history(\"historicalprices\",{\"exchange\":\"bse\",\"cocode\":\"476\",\"fromdate\":\"01-jan-2014\",\"todate\":\"08-oct-2015\"})\n",
    "client.history(\"historicalprices-unadjusted\",{\"exchange\":\"bse\",\"co_code\":\"476\",\"date\":\"16-Jun-2016\"})\n",
    "client.history(\"NSEFNO_HistoricalContinuousChart\",{\"symbol\":\"HDFC\",\"expiry type\": \"near\"})\n",
    "client.history(\"LiveorEODHistorical\",{\"exchange\":\"BSE\",\"co_code\":\"5400\",\"period\":\"Y\",\"cnt\":\"3\"})\n",
    "\n",
    "#Terminate user's Session\n",
    "client.logout()\n"
   ]
  }
 ],
 "metadata": {
  "kernelspec": {
   "display_name": "Python 3",
   "language": "python",
   "name": "python3"
  },
  "language_info": {
   "codemirror_mode": {
    "name": "ipython",
    "version": 3
   },
   "file_extension": ".py",
   "mimetype": "text/x-python",
   "name": "python",
   "nbconvert_exporter": "python",
   "pygments_lexer": "ipython3",
   "version": "3.8.8"
  }
 },
 "nbformat": 4,
 "nbformat_minor": 5
}
